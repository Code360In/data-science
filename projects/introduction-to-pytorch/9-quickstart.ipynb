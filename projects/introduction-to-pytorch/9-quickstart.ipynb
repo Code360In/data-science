{
  "cells": [
    {
      "cell_type": "code",
      "source": [
        "%matplotlib inline"
      ],
      "outputs": [
        {
          "output_type": "stream",
          "name": "stderr",
          "text": [
            "Matplotlib is building the font cache; this may take a moment.\n"
          ]
        }
      ],
      "execution_count": 1,
      "metadata": {}
    },
    {
      "cell_type": "markdown",
      "source": [
        "This unit runs through the API for common tasks in machine learning. Refer to the links in each section to dive deeper.\n",
        "\n",
        "## Working with data\n",
        "PyTorch has two [primitives to work with data](https://pytorch.org/docs/stable/data.html): ``torch.utils.data.DataLoader`` and ``torch.utils.data.Dataset``. ``Dataset`` stores the samples and their corresponding labels, and ``DataLoader`` wraps an iterable around the ``Dataset``.\n",
        "\n"
      ],
      "metadata": {}
    },
    {
      "cell_type": "code",
      "source": [
        "import torch\n",
        "from torch import nn\n",
        "from torch.utils.data import DataLoader\n",
        "from torchvision import datasets\n",
        "from torchvision.transforms import ToTensor, Lambda, Compose\n",
        "import matplotlib.pyplot as plt"
      ],
      "outputs": [],
      "execution_count": 2,
      "metadata": {}
    },
    {
      "cell_type": "markdown",
      "source": [
        "PyTorch offers domain-specific libraries such as [TorchText](https://pytorch.org/text/stable/index.html), [TorchVision](https://pytorch.org/vision/stable/index.html), and [TorchAudio](https://pytorch.org/audio/stable/index.html), all of which include datasets. For this tutorial, we  will be using a TorchVision dataset.\n",
        "\n",
        "The ``torchvision.datasets`` module contains ``Dataset`` objects for many real-world vision data like CIFAR, COCO ([full list here](https://pytorch.org/docs/stable/torchvision/datasets.html)). In this tutorial, we'll use the **FashionMNIST** dataset. Every TorchVision ``Dataset`` includes two arguments: ``transform`` and ``target_transform`` to modify the samples and labels respectively.\n",
        "\n"
      ],
      "metadata": {}
    },
    {
      "cell_type": "code",
      "source": [
        "# Download training data from open datasets.\n",
        "training_data = datasets.FashionMNIST(\n",
        "    root=\"data\",\n",
        "    train=True,\n",
        "    download=True,\n",
        "    transform=ToTensor(),\n",
        ")\n",
        "\n",
        "# Download test data from open datasets.\n",
        "test_data = datasets.FashionMNIST(\n",
        "    root=\"data\",\n",
        "    train=False,\n",
        "    download=True,\n",
        "    transform=ToTensor(),\n",
        ")"
      ],
      "outputs": [
        {
          "output_type": "stream",
          "name": "stdout",
          "text": [
            "Using downloaded and verified file: data/FashionMNIST/raw/train-images-idx3-ubyte.gz\n",
            "Extracting data/FashionMNIST/raw/train-images-idx3-ubyte.gz to data/FashionMNIST/raw\n",
            "Using downloaded and verified file: data/FashionMNIST/raw/train-labels-idx1-ubyte.gz\n",
            "Extracting data/FashionMNIST/raw/train-labels-idx1-ubyte.gz to data/FashionMNIST/raw\n",
            "Using downloaded and verified file: data/FashionMNIST/raw/t10k-images-idx3-ubyte.gz\n",
            "Extracting data/FashionMNIST/raw/t10k-images-idx3-ubyte.gz to data/FashionMNIST/raw\n",
            "Using downloaded and verified file: data/FashionMNIST/raw/t10k-labels-idx1-ubyte.gz\n",
            "Extracting data/FashionMNIST/raw/t10k-labels-idx1-ubyte.gz to data/FashionMNIST/raw\n",
            "Processing...\n",
            "Done!\n"
          ]
        },
        {
          "output_type": "stream",
          "name": "stderr",
          "text": [
            "/anaconda/envs/py37_pytorch/lib/python3.7/site-packages/torchvision/datasets/mnist.py:480: UserWarning: The given NumPy array is not writeable, and PyTorch does not support non-writeable tensors. This means you can write to the underlying (supposedly non-writeable) NumPy array using the tensor. You may want to copy the array to protect its data or make it writeable before converting it to a tensor. This type of warning will be suppressed for the rest of this program. (Triggered internally at  /opt/conda/conda-bld/pytorch_1607370141920/work/torch/csrc/utils/tensor_numpy.cpp:141.)\n",
            "  return torch.from_numpy(parsed.astype(m[2], copy=False)).view(*s)\n"
          ]
        }
      ],
      "execution_count": 3,
      "metadata": {}
    },
    {
      "cell_type": "markdown",
      "source": [
        "We pass the ``Dataset`` as an argument to ``DataLoader``. This wraps an iterable over our dataset, and supports automatic batching, sampling, shuffling and multiprocess data loading. Here we define a batch size of 64, i.e. each element in the dataloader iterable will return a batch of 64 features and labels.\n",
        "\n"
      ],
      "metadata": {}
    },
    {
      "cell_type": "code",
      "source": [
        "batch_size = 64\n",
        "\n",
        "# Create data loaders.\n",
        "train_dataloader = DataLoader(training_data, batch_size=batch_size)\n",
        "test_dataloader = DataLoader(test_data, batch_size=batch_size)\n",
        "\n",
        "for X, y in test_dataloader:\n",
        "    print(\"Shape of X [N, C, H, W]: \", X.shape)\n",
        "    print(\"Shape of y: \", y.shape, y.dtype)\n",
        "    break"
      ],
      "outputs": [
        {
          "output_type": "stream",
          "name": "stdout",
          "text": [
            "Shape of X [N, C, H, W]:  torch.Size([64, 1, 28, 28])\n",
            "Shape of y:  torch.Size([64]) torch.int64\n"
          ]
        }
      ],
      "execution_count": 4,
      "metadata": {}
    },
    {
      "cell_type": "markdown",
      "source": [
        "## Creating models\n",
        "To define a neural network in PyTorch, we create a class that inherits from [nn.Module](https://pytorch.org/docs/stable/generated/torch.nn.Module.html). We define the layers of the network in the ``__init__`` function and specify how data will pass through the network in the ``forward`` function. To accelerate operations in the neural network, we move it to the GPU if available.\n",
        "\n"
      ],
      "metadata": {}
    },
    {
      "cell_type": "code",
      "source": [
        "# Get cpu or gpu device for training.\n",
        "device = \"cuda\" if torch.cuda.is_available() else \"cpu\"\n",
        "print(\"Using {} device\".format(device))\n",
        "\n",
        "# Define model\n",
        "class NeuralNetwork(nn.Module):\n",
        "    def __init__(self):\n",
        "        super(NeuralNetwork, self).__init__()\n",
        "        self.flatten = nn.Flatten()\n",
        "        self.linear_relu_stack = nn.Sequential(\n",
        "            nn.Linear(28*28, 512),\n",
        "            nn.ReLU(),\n",
        "            nn.Linear(512, 512),\n",
        "            nn.ReLU(),\n",
        "            nn.Linear(512, 10),\n",
        "            nn.ReLU()\n",
        "        )\n",
        "\n",
        "    def forward(self, x):\n",
        "        x = self.flatten(x)\n",
        "        logits = self.linear_relu_stack(x)\n",
        "        return logits\n",
        "\n",
        "model = NeuralNetwork().to(device)\n",
        "print(model)"
      ],
      "outputs": [
        {
          "output_type": "stream",
          "name": "stdout",
          "text": [
            "Using cuda device\n",
            "NeuralNetwork(\n",
            "  (flatten): Flatten(start_dim=1, end_dim=-1)\n",
            "  (linear_relu_stack): Sequential(\n",
            "    (0): Linear(in_features=784, out_features=512, bias=True)\n",
            "    (1): ReLU()\n",
            "    (2): Linear(in_features=512, out_features=512, bias=True)\n",
            "    (3): ReLU()\n",
            "    (4): Linear(in_features=512, out_features=10, bias=True)\n",
            "    (5): ReLU()\n",
            "  )\n",
            ")\n"
          ]
        }
      ],
      "execution_count": 5,
      "metadata": {}
    },
    {
      "cell_type": "markdown",
      "source": [
        "## Optimizing the Model Parameters\n",
        "To train a model, we need a [loss function](https://pytorch.org/docs/stable/nn.html#loss-functions>) and an [optimizer](https://pytorch.org/docs/stable/optim.html). \n",
        "\n"
      ],
      "metadata": {}
    },
    {
      "cell_type": "code",
      "source": [
        "loss_fn = nn.CrossEntropyLoss()\n",
        "learning_rate = 1e-3\n",
        "optimizer = torch.optim.SGD(model.parameters(), lr=learning_rate)"
      ],
      "outputs": [],
      "execution_count": 6,
      "metadata": {}
    },
    {
      "cell_type": "markdown",
      "source": [
        "In a single training loop, the model makes predictions on the training dataset (fed to it in batches), and back-propagates the prediction error to adjust the model's parameters. \n",
        "\n"
      ],
      "metadata": {}
    },
    {
      "cell_type": "code",
      "source": [
        "def train(dataloader, model, loss_fn, optimizer):\n",
        "    size = len(dataloader.dataset)\n",
        "    for batch, (X, y) in enumerate(dataloader):\n",
        "        X, y = X.to(device), y.to(device)\n",
        "        \n",
        "        # Compute prediction error\n",
        "        pred = model(X)\n",
        "        loss = loss_fn(pred, y)\n",
        "        \n",
        "        # Backpropagation\n",
        "        optimizer.zero_grad()\n",
        "        loss.backward()\n",
        "        optimizer.step()\n",
        "\n",
        "        if batch % 100 == 0:\n",
        "            loss, current = loss.item(), batch * len(X)\n",
        "            print(f\"loss: {loss:>7f}  [{current:>5d}/{size:>5d}]\")"
      ],
      "outputs": [],
      "execution_count": 7,
      "metadata": {}
    },
    {
      "cell_type": "markdown",
      "source": [
        "We can also check the model's performance against the test dataset to ensure it is learning.\n"
      ],
      "metadata": {}
    },
    {
      "cell_type": "code",
      "source": [
        "def test(dataloader, model):\n",
        "    size = len(dataloader.dataset)\n",
        "    model.eval()\n",
        "    test_loss, correct = 0, 0\n",
        "    with torch.no_grad():\n",
        "        for X, y in dataloader:\n",
        "            X, y = X.to(device), y.to(device)\n",
        "            pred = model(X)\n",
        "            test_loss += loss_fn(pred, y).item()\n",
        "            correct += (pred.argmax(1) == y).type(torch.float).sum().item()\n",
        "    test_loss /= size\n",
        "    correct /= size\n",
        "    print(f\"Test Error: \\n Accuracy: {(100*correct):>0.1f}%, Avg loss: {test_loss:>8f} \\n\")"
      ],
      "outputs": [],
      "execution_count": 8,
      "metadata": {}
    },
    {
      "cell_type": "markdown",
      "source": [
        "The training process is conducted over several iterations (*epochs*). During each epoch, the model learns parameters to make better predictions. We print the model's accuracy and loss at each epoch; we'd like to see the accuracy increase and the loss decrease with every epoch.\n",
        "\n"
      ],
      "metadata": {}
    },
    {
      "cell_type": "code",
      "source": [
        "epochs = 15\n",
        "for t in range(epochs):\n",
        "    print(f\"Epoch {t+1}\\n-------------------------------\")\n",
        "    train(train_dataloader, model, loss_fn, optimizer)\n",
        "    test(test_dataloader, model)\n",
        "print(\"Done!\")"
      ],
      "outputs": [
        {
          "output_type": "stream",
          "name": "stdout",
          "text": [
            "Epoch 1\n",
            "-------------------------------\n",
            "loss: 2.307285  [    0/60000]\n",
            "loss: 2.304981  [ 6400/60000]\n",
            "loss: 2.299205  [12800/60000]\n",
            "loss: 2.300679  [19200/60000]\n",
            "loss: 2.295691  [25600/60000]\n",
            "loss: 2.271405  [32000/60000]\n",
            "loss: 2.292321  [38400/60000]\n",
            "loss: 2.274446  [44800/60000]\n",
            "loss: 2.272189  [51200/60000]\n",
            "loss: 2.267288  [57600/60000]\n",
            "Test Error: \n",
            " Accuracy: 19.3%, Avg loss: 0.035672 \n",
            "\n",
            "Epoch 2\n",
            "-------------------------------\n",
            "loss: 2.271366  [    0/60000]\n",
            "loss: 2.284078  [ 6400/60000]\n",
            "loss: 2.274817  [12800/60000]\n",
            "loss: 2.282148  [19200/60000]\n",
            "loss: 2.264683  [25600/60000]\n",
            "loss: 2.224791  [32000/60000]\n",
            "loss: 2.265732  [38400/60000]\n",
            "loss: 2.235123  [44800/60000]\n",
            "loss: 2.234279  [51200/60000]\n",
            "loss: 2.227821  [57600/60000]\n",
            "Test Error: \n",
            " Accuracy: 24.1%, Avg loss: 0.034980 \n",
            "\n",
            "Epoch 3\n",
            "-------------------------------\n",
            "loss: 2.237286  [    0/60000]\n",
            "loss: 2.245635  [ 6400/60000]\n",
            "loss: 2.234217  [12800/60000]\n",
            "loss: 2.249695  [19200/60000]\n",
            "loss: 2.217471  [25600/60000]\n",
            "loss: 2.165741  [32000/60000]\n",
            "loss: 2.227351  [38400/60000]\n",
            "loss: 2.182187  [44800/60000]\n",
            "loss: 2.184687  [51200/60000]\n",
            "loss: 2.176621  [57600/60000]\n",
            "Test Error: \n",
            " Accuracy: 29.5%, Avg loss: 0.034090 \n",
            "\n",
            "Epoch 4\n",
            "-------------------------------\n",
            "loss: 2.191167  [    0/60000]\n",
            "loss: 2.196252  [ 6400/60000]\n",
            "loss: 2.181668  [12800/60000]\n",
            "loss: 2.207514  [19200/60000]\n",
            "loss: 2.158111  [25600/60000]\n",
            "loss: 2.090765  [32000/60000]\n",
            "loss: 2.181052  [38400/60000]\n",
            "loss: 2.117990  [44800/60000]\n",
            "loss: 2.125479  [51200/60000]\n",
            "loss: 2.117006  [57600/60000]\n",
            "Test Error: \n",
            " Accuracy: 31.2%, Avg loss: 0.033026 \n",
            "\n",
            "Epoch 5\n",
            "-------------------------------\n",
            "loss: 2.137173  [    0/60000]\n",
            "loss: 2.134311  [ 6400/60000]\n",
            "loss: 2.118997  [12800/60000]\n",
            "loss: 2.157000  [19200/60000]\n",
            "loss: 2.093015  [25600/60000]\n",
            "loss: 2.011313  [32000/60000]\n",
            "loss: 2.132060  [38400/60000]\n",
            "loss: 2.056350  [44800/60000]\n",
            "loss: 2.065670  [51200/60000]\n",
            "loss: 2.059540  [57600/60000]\n",
            "Test Error: \n",
            " Accuracy: 31.7%, Avg loss: 0.031964 \n",
            "\n",
            "Epoch 6\n",
            "-------------------------------\n",
            "loss: 2.083941  [    0/60000]\n",
            "loss: 2.070256  [ 6400/60000]\n",
            "loss: 2.055480  [12800/60000]\n",
            "loss: 2.104446  [19200/60000]\n",
            "loss: 2.024786  [25600/60000]\n",
            "loss: 1.936684  [32000/60000]\n",
            "loss: 2.084332  [38400/60000]\n",
            "loss: 2.006150  [44800/60000]\n",
            "loss: 2.001028  [51200/60000]\n",
            "loss: 2.011178  [57600/60000]\n",
            "Test Error: \n",
            " Accuracy: 32.4%, Avg loss: 0.030957 \n",
            "\n",
            "Epoch 7\n",
            "-------------------------------\n",
            "loss: 2.028202  [    0/60000]\n",
            "loss: 2.009333  [ 6400/60000]\n",
            "loss: 1.993462  [12800/60000]\n",
            "loss: 2.052468  [19200/60000]\n",
            "loss: 1.961281  [25600/60000]\n",
            "loss: 1.873760  [32000/60000]\n",
            "loss: 2.043903  [38400/60000]\n",
            "loss: 1.966145  [44800/60000]\n",
            "loss: 1.944737  [51200/60000]\n",
            "loss: 1.972518  [57600/60000]\n",
            "Test Error: \n",
            " Accuracy: 35.3%, Avg loss: 0.030107 \n",
            "\n",
            "Epoch 8\n",
            "-------------------------------\n",
            "loss: 1.980447  [    0/60000]\n",
            "loss: 1.959244  [ 6400/60000]\n",
            "loss: 1.938797  [12800/60000]\n",
            "loss: 2.005347  [19200/60000]\n",
            "loss: 1.906915  [25600/60000]\n",
            "loss: 1.822126  [32000/60000]\n",
            "loss: 2.008879  [38400/60000]\n",
            "loss: 1.934125  [44800/60000]\n",
            "loss: 1.898500  [51200/60000]\n",
            "loss: 1.941143  [57600/60000]\n",
            "Test Error: \n",
            " Accuracy: 38.9%, Avg loss: 0.029407 \n",
            "\n",
            "Epoch 9\n",
            "-------------------------------\n",
            "loss: 1.939705  [    0/60000]\n",
            "loss: 1.918656  [ 6400/60000]\n",
            "loss: 1.893524  [12800/60000]\n",
            "loss: 1.966032  [19200/60000]\n",
            "loss: 1.862543  [25600/60000]\n",
            "loss: 1.780009  [32000/60000]\n",
            "loss: 1.978951  [38400/60000]\n",
            "loss: 1.909063  [44800/60000]\n",
            "loss: 1.860661  [51200/60000]\n",
            "loss: 1.915148  [57600/60000]\n",
            "Test Error: \n",
            " Accuracy: 41.0%, Avg loss: 0.028845 \n",
            "\n",
            "Epoch 10\n",
            "-------------------------------\n",
            "loss: 1.905638  [    0/60000]\n",
            "loss: 1.887646  [ 6400/60000]\n",
            "loss: 1.856431  [12800/60000]\n",
            "loss: 1.932986  [19200/60000]\n",
            "loss: 1.827266  [25600/60000]\n",
            "loss: 1.746597  [32000/60000]\n",
            "loss: 1.955034  [38400/60000]\n",
            "loss: 1.888439  [44800/60000]\n",
            "loss: 1.829726  [51200/60000]\n",
            "loss: 1.895279  [57600/60000]\n",
            "Test Error: \n",
            " Accuracy: 41.7%, Avg loss: 0.028403 \n",
            "\n",
            "Epoch 11\n",
            "-------------------------------\n",
            "loss: 1.876579  [    0/60000]\n",
            "loss: 1.863818  [ 6400/60000]\n",
            "loss: 1.825957  [12800/60000]\n",
            "loss: 1.905484  [19200/60000]\n",
            "loss: 1.799904  [25600/60000]\n",
            "loss: 1.720489  [32000/60000]\n",
            "loss: 1.935622  [38400/60000]\n",
            "loss: 1.872756  [44800/60000]\n",
            "loss: 1.804551  [51200/60000]\n",
            "loss: 1.880675  [57600/60000]\n",
            "Test Error: \n",
            " Accuracy: 42.0%, Avg loss: 0.028055 \n",
            "\n",
            "Epoch 12\n",
            "-------------------------------\n",
            "loss: 1.851472  [    0/60000]\n",
            "loss: 1.845034  [ 6400/60000]\n",
            "loss: 1.801199  [12800/60000]\n",
            "loss: 1.883885  [19200/60000]\n",
            "loss: 1.778082  [25600/60000]\n",
            "loss: 1.699656  [32000/60000]\n",
            "loss: 1.918694  [38400/60000]\n",
            "loss: 1.860491  [44800/60000]\n",
            "loss: 1.783421  [51200/60000]\n",
            "loss: 1.869542  [57600/60000]\n",
            "Test Error: \n",
            " Accuracy: 42.2%, Avg loss: 0.027774 \n",
            "\n",
            "Epoch 13\n",
            "-------------------------------\n",
            "loss: 1.829313  [    0/60000]\n",
            "loss: 1.829430  [ 6400/60000]\n",
            "loss: 1.780213  [12800/60000]\n",
            "loss: 1.865929  [19200/60000]\n",
            "loss: 1.760352  [25600/60000]\n",
            "loss: 1.683041  [32000/60000]\n",
            "loss: 1.903428  [38400/60000]\n",
            "loss: 1.850181  [44800/60000]\n",
            "loss: 1.764813  [51200/60000]\n",
            "loss: 1.860725  [57600/60000]\n",
            "Test Error: \n",
            " Accuracy: 42.5%, Avg loss: 0.027533 \n",
            "\n",
            "Epoch 14\n",
            "-------------------------------\n",
            "loss: 1.809431  [    0/60000]\n",
            "loss: 1.815217  [ 6400/60000]\n",
            "loss: 1.761563  [12800/60000]\n",
            "loss: 1.850452  [19200/60000]\n",
            "loss: 1.744637  [25600/60000]\n",
            "loss: 1.668629  [32000/60000]\n",
            "loss: 1.889379  [38400/60000]\n",
            "loss: 1.840443  [44800/60000]\n",
            "loss: 1.748166  [51200/60000]\n",
            "loss: 1.853053  [57600/60000]\n",
            "Test Error: \n",
            " Accuracy: 42.6%, Avg loss: 0.027318 \n",
            "\n",
            "Epoch 15\n",
            "-------------------------------\n",
            "loss: 1.790554  [    0/60000]\n",
            "loss: 1.801697  [ 6400/60000]\n",
            "loss: 1.744231  [12800/60000]\n",
            "loss: 1.836512  [19200/60000]\n",
            "loss: 1.730611  [25600/60000]\n",
            "loss: 1.655720  [32000/60000]\n",
            "loss: 1.875984  [38400/60000]\n",
            "loss: 1.831006  [44800/60000]\n",
            "loss: 1.732221  [51200/60000]\n",
            "loss: 1.845906  [57600/60000]\n",
            "Test Error: \n",
            " Accuracy: 42.8%, Avg loss: 0.027116 \n",
            "\n",
            "Done!\n"
          ]
        }
      ],
      "execution_count": 9,
      "metadata": {}
    },
    {
      "cell_type": "markdown",
      "source": [
        "The accuracy will initially not be very good (that's OK!). Try running the loop for more `epochs` or adjusting the `learning_rate` to a bigger number. It might also be the case that the model configuration we chose might not be the optimal one for this kind of problem (it isn't). Later courses will delve more into the model shapes that work for vision problems."
      ],
      "metadata": {}
    },
    {
      "cell_type": "markdown",
      "source": [
        "Saving Models\n",
        "-------------\n",
        "A common way to save a model is to serialize the internal state dictionary (containing the model parameters).\n",
        "\n"
      ],
      "metadata": {}
    },
    {
      "cell_type": "code",
      "source": [
        "torch.save(model.state_dict(), \"data/model.pth\")\n",
        "print(\"Saved PyTorch Model State to model.pth\")"
      ],
      "outputs": [
        {
          "output_type": "stream",
          "name": "stdout",
          "text": [
            "Saved PyTorch Model State to model.pth\n"
          ]
        }
      ],
      "execution_count": 10,
      "metadata": {}
    },
    {
      "cell_type": "markdown",
      "source": [
        "Loading Models\n",
        "----------------------------\n",
        "\n",
        "The process for loading a model includes re-creating the model structure and loading\n",
        "the state dictionary into it. \n",
        "\n"
      ],
      "metadata": {}
    },
    {
      "cell_type": "code",
      "source": [
        "model = NeuralNetwork()\n",
        "model.load_state_dict(torch.load(\"data/model.pth\"))"
      ],
      "outputs": [
        {
          "output_type": "execute_result",
          "execution_count": 11,
          "data": {
            "text/plain": "<All keys matched successfully>"
          },
          "metadata": {}
        }
      ],
      "execution_count": 11,
      "metadata": {}
    },
    {
      "cell_type": "markdown",
      "source": [
        "This model can now be used to make predictions.\n",
        "\n"
      ],
      "metadata": {}
    },
    {
      "cell_type": "code",
      "source": [
        "classes = [\n",
        "    \"T-shirt/top\",\n",
        "    \"Trouser\",\n",
        "    \"Pullover\",\n",
        "    \"Dress\",\n",
        "    \"Coat\",\n",
        "    \"Sandal\",\n",
        "    \"Shirt\",\n",
        "    \"Sneaker\",\n",
        "    \"Bag\",\n",
        "    \"Ankle boot\",\n",
        "]\n",
        "\n",
        "model.eval()\n",
        "x, y = test_data[0][0], test_data[0][1]\n",
        "with torch.no_grad():\n",
        "    pred = model(x)\n",
        "    predicted, actual = classes[pred[0].argmax(0)], classes[y]\n",
        "    print(f'Predicted: \"{predicted}\", Actual: \"{actual}\"')"
      ],
      "outputs": [
        {
          "output_type": "stream",
          "name": "stdout",
          "text": [
            "Predicted: \"Sandal\", Actual: \"Ankle boot\"\n"
          ]
        }
      ],
      "execution_count": 12,
      "metadata": {}
    }
  ],
  "metadata": {
    "kernelspec": {
      "name": "conda-env-py37_pytorch-py",
      "language": "python",
      "display_name": "py37_pytorch"
    },
    "language_info": {
      "name": "python",
      "version": "3.7.9",
      "mimetype": "text/x-python",
      "codemirror_mode": {
        "name": "ipython",
        "version": 3
      },
      "pygments_lexer": "ipython3",
      "nbconvert_exporter": "python",
      "file_extension": ".py"
    },
    "kernel_info": {
      "name": "conda-env-py37_pytorch-py"
    },
    "nteract": {
      "version": "nteract-front-end@1.0.0"
    }
  },
  "nbformat": 4,
  "nbformat_minor": 1
}