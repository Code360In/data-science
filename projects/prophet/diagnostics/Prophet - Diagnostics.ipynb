{
 "cells": [
  {
   "cell_type": "code",
   "execution_count": 1,
   "id": "14fc789d",
   "metadata": {},
   "outputs": [],
   "source": [
    "import pandas as pd\n",
    "from prophet import Prophet"
   ]
  },
  {
   "cell_type": "code",
   "execution_count": 2,
   "id": "47b3d5a6",
   "metadata": {},
   "outputs": [],
   "source": [
    "df = pd.read_csv('example_wp_log_peyton_manning.csv')"
   ]
  },
  {
   "cell_type": "code",
   "execution_count": 4,
   "id": "5b53948a",
   "metadata": {},
   "outputs": [
    {
     "name": "stderr",
     "output_type": "stream",
     "text": [
      "INFO - Disabling daily seasonality. Run prophet with daily_seasonality=True to override this.\n"
     ]
    },
    {
     "data": {
      "text/plain": [
       "<prophet.forecaster.Prophet at 0x23eb5fcf828>"
      ]
     },
     "execution_count": 4,
     "metadata": {},
     "output_type": "execute_result"
    }
   ],
   "source": [
    "m = Prophet()\n",
    "m.fit(df)"
   ]
  },
  {
   "cell_type": "code",
   "execution_count": 5,
   "id": "13340387",
   "metadata": {},
   "outputs": [
    {
     "name": "stderr",
     "output_type": "stream",
     "text": [
      "INFO - Making 11 forecasts with cutoffs between 2010-02-15 00:00:00 and 2015-01-20 00:00:00\n"
     ]
    },
    {
     "data": {
      "application/vnd.jupyter.widget-view+json": {
       "model_id": "08033b18bda248e1a1233b8486adaff1",
       "version_major": 2,
       "version_minor": 0
      },
      "text/plain": [
       "  0%|          | 0/11 [00:00<?, ?it/s]"
      ]
     },
     "metadata": {},
     "output_type": "display_data"
    }
   ],
   "source": [
    "# Up to this point, we have used the entire time series and as such we need to split into a training and test set to validate our model\n",
    "from prophet.diagnostics import cross_validation\n",
    "df_cv = cross_validation(m, initial='730 days',period='180 days',horizon='365 days')"
   ]
  },
  {
   "cell_type": "code",
   "execution_count": 6,
   "id": "f0e93248",
   "metadata": {},
   "outputs": [
    {
     "data": {
      "text/html": [
       "<div>\n",
       "<style scoped>\n",
       "    .dataframe tbody tr th:only-of-type {\n",
       "        vertical-align: middle;\n",
       "    }\n",
       "\n",
       "    .dataframe tbody tr th {\n",
       "        vertical-align: top;\n",
       "    }\n",
       "\n",
       "    .dataframe thead th {\n",
       "        text-align: right;\n",
       "    }\n",
       "</style>\n",
       "<table border=\"1\" class=\"dataframe\">\n",
       "  <thead>\n",
       "    <tr style=\"text-align: right;\">\n",
       "      <th></th>\n",
       "      <th>ds</th>\n",
       "      <th>yhat</th>\n",
       "      <th>yhat_lower</th>\n",
       "      <th>yhat_upper</th>\n",
       "      <th>y</th>\n",
       "      <th>cutoff</th>\n",
       "    </tr>\n",
       "  </thead>\n",
       "  <tbody>\n",
       "    <tr>\n",
       "      <th>0</th>\n",
       "      <td>2010-02-16</td>\n",
       "      <td>8.955064</td>\n",
       "      <td>8.480612</td>\n",
       "      <td>9.446989</td>\n",
       "      <td>8.242493</td>\n",
       "      <td>2010-02-15</td>\n",
       "    </tr>\n",
       "    <tr>\n",
       "      <th>1</th>\n",
       "      <td>2010-02-17</td>\n",
       "      <td>8.721462</td>\n",
       "      <td>8.238617</td>\n",
       "      <td>9.181408</td>\n",
       "      <td>8.008033</td>\n",
       "      <td>2010-02-15</td>\n",
       "    </tr>\n",
       "    <tr>\n",
       "      <th>2</th>\n",
       "      <td>2010-02-18</td>\n",
       "      <td>8.605128</td>\n",
       "      <td>8.095479</td>\n",
       "      <td>9.131033</td>\n",
       "      <td>8.045268</td>\n",
       "      <td>2010-02-15</td>\n",
       "    </tr>\n",
       "    <tr>\n",
       "      <th>3</th>\n",
       "      <td>2010-02-19</td>\n",
       "      <td>8.526949</td>\n",
       "      <td>8.013201</td>\n",
       "      <td>9.030890</td>\n",
       "      <td>7.928766</td>\n",
       "      <td>2010-02-15</td>\n",
       "    </tr>\n",
       "    <tr>\n",
       "      <th>4</th>\n",
       "      <td>2010-02-20</td>\n",
       "      <td>8.268824</td>\n",
       "      <td>7.791901</td>\n",
       "      <td>8.791790</td>\n",
       "      <td>7.745003</td>\n",
       "      <td>2010-02-15</td>\n",
       "    </tr>\n",
       "  </tbody>\n",
       "</table>\n",
       "</div>"
      ],
      "text/plain": [
       "          ds      yhat  yhat_lower  yhat_upper         y     cutoff\n",
       "0 2010-02-16  8.955064    8.480612    9.446989  8.242493 2010-02-15\n",
       "1 2010-02-17  8.721462    8.238617    9.181408  8.008033 2010-02-15\n",
       "2 2010-02-18  8.605128    8.095479    9.131033  8.045268 2010-02-15\n",
       "3 2010-02-19  8.526949    8.013201    9.030890  7.928766 2010-02-15\n",
       "4 2010-02-20  8.268824    7.791901    8.791790  7.745003 2010-02-15"
      ]
     },
     "execution_count": 6,
     "metadata": {},
     "output_type": "execute_result"
    }
   ],
   "source": [
    "df_cv.head()"
   ]
  },
  {
   "cell_type": "code",
   "execution_count": 7,
   "id": "08557a38",
   "metadata": {},
   "outputs": [
    {
     "data": {
      "application/vnd.jupyter.widget-view+json": {
       "model_id": "4dc6eccab3fa421eb16bbbe819d7e383",
       "version_major": 2,
       "version_minor": 0
      },
      "text/plain": [
       "  0%|          | 0/3 [00:00<?, ?it/s]"
      ]
     },
     "metadata": {},
     "output_type": "display_data"
    }
   ],
   "source": [
    "#Specify the custom cutoff as every 6 months\n",
    "cutoffs = pd.to_datetime(['2013-02-15', '2013-08-15', '2014-02-15'])\n",
    "df_cv2 = cross_validation(m, cutoffs=cutoffs, horizon='365 days')"
   ]
  },
  {
   "cell_type": "code",
   "execution_count": 8,
   "id": "031e1dce",
   "metadata": {},
   "outputs": [
    {
     "data": {
      "text/html": [
       "<div>\n",
       "<style scoped>\n",
       "    .dataframe tbody tr th:only-of-type {\n",
       "        vertical-align: middle;\n",
       "    }\n",
       "\n",
       "    .dataframe tbody tr th {\n",
       "        vertical-align: top;\n",
       "    }\n",
       "\n",
       "    .dataframe thead th {\n",
       "        text-align: right;\n",
       "    }\n",
       "</style>\n",
       "<table border=\"1\" class=\"dataframe\">\n",
       "  <thead>\n",
       "    <tr style=\"text-align: right;\">\n",
       "      <th></th>\n",
       "      <th>horizon</th>\n",
       "      <th>mse</th>\n",
       "      <th>rmse</th>\n",
       "      <th>mae</th>\n",
       "      <th>mape</th>\n",
       "      <th>mdape</th>\n",
       "      <th>smape</th>\n",
       "      <th>coverage</th>\n",
       "    </tr>\n",
       "  </thead>\n",
       "  <tbody>\n",
       "    <tr>\n",
       "      <th>0</th>\n",
       "      <td>37 days</td>\n",
       "      <td>0.493765</td>\n",
       "      <td>0.702684</td>\n",
       "      <td>0.504584</td>\n",
       "      <td>0.058462</td>\n",
       "      <td>0.049877</td>\n",
       "      <td>0.058757</td>\n",
       "      <td>0.681590</td>\n",
       "    </tr>\n",
       "    <tr>\n",
       "      <th>1</th>\n",
       "      <td>38 days</td>\n",
       "      <td>0.499582</td>\n",
       "      <td>0.706811</td>\n",
       "      <td>0.509580</td>\n",
       "      <td>0.059040</td>\n",
       "      <td>0.049518</td>\n",
       "      <td>0.059395</td>\n",
       "      <td>0.681590</td>\n",
       "    </tr>\n",
       "    <tr>\n",
       "      <th>2</th>\n",
       "      <td>39 days</td>\n",
       "      <td>0.521696</td>\n",
       "      <td>0.722286</td>\n",
       "      <td>0.515672</td>\n",
       "      <td>0.059640</td>\n",
       "      <td>0.049715</td>\n",
       "      <td>0.060120</td>\n",
       "      <td>0.680219</td>\n",
       "    </tr>\n",
       "    <tr>\n",
       "      <th>3</th>\n",
       "      <td>40 days</td>\n",
       "      <td>0.528906</td>\n",
       "      <td>0.727259</td>\n",
       "      <td>0.518442</td>\n",
       "      <td>0.059935</td>\n",
       "      <td>0.049375</td>\n",
       "      <td>0.060484</td>\n",
       "      <td>0.681361</td>\n",
       "    </tr>\n",
       "    <tr>\n",
       "      <th>4</th>\n",
       "      <td>41 days</td>\n",
       "      <td>0.536318</td>\n",
       "      <td>0.732337</td>\n",
       "      <td>0.519362</td>\n",
       "      <td>0.060005</td>\n",
       "      <td>0.049518</td>\n",
       "      <td>0.060618</td>\n",
       "      <td>0.688899</td>\n",
       "    </tr>\n",
       "  </tbody>\n",
       "</table>\n",
       "</div>"
      ],
      "text/plain": [
       "  horizon       mse      rmse       mae      mape     mdape     smape  \\\n",
       "0 37 days  0.493765  0.702684  0.504584  0.058462  0.049877  0.058757   \n",
       "1 38 days  0.499582  0.706811  0.509580  0.059040  0.049518  0.059395   \n",
       "2 39 days  0.521696  0.722286  0.515672  0.059640  0.049715  0.060120   \n",
       "3 40 days  0.528906  0.727259  0.518442  0.059935  0.049375  0.060484   \n",
       "4 41 days  0.536318  0.732337  0.519362  0.060005  0.049518  0.060618   \n",
       "\n",
       "   coverage  \n",
       "0  0.681590  \n",
       "1  0.681590  \n",
       "2  0.680219  \n",
       "3  0.681361  \n",
       "4  0.688899  "
      ]
     },
     "execution_count": 8,
     "metadata": {},
     "output_type": "execute_result"
    }
   ],
   "source": [
    "\"\"\"\n",
    "The statistics computed are mean squared error (MSE), root mean squared error (RMSE), mean absolute error (MAE), mean absolute percent error (MAPE), median absolute percent error (MDAPE) and coverage of the yhat_lower and yhat_upper estimates.\n",
    "\"\"\"\n",
    "from prophet.diagnostics import performance_metrics\n",
    "df_p = performance_metrics(df_cv)\n",
    "df_p.head()"
   ]
  },
  {
   "cell_type": "code",
   "execution_count": 9,
   "id": "11ab40cb",
   "metadata": {},
   "outputs": [
    {
     "name": "stderr",
     "output_type": "stream",
     "text": [
      "C:\\Users\\DW814QU\\AppData\\Local\\Continuum\\anaconda3\\lib\\site-packages\\matplotlib\\cbook\\__init__.py:1402: FutureWarning:\n",
      "\n",
      "Support for multi-dimensional indexing (e.g. `obj[:, None]`) is deprecated and will be removed in a future version.  Convert to a numpy array before indexing instead.\n",
      "\n",
      "C:\\Users\\DW814QU\\AppData\\Local\\Continuum\\anaconda3\\lib\\site-packages\\matplotlib\\axes\\_base.py:276: FutureWarning:\n",
      "\n",
      "Support for multi-dimensional indexing (e.g. `obj[:, None]`) is deprecated and will be removed in a future version.  Convert to a numpy array before indexing instead.\n",
      "\n",
      "C:\\Users\\DW814QU\\AppData\\Local\\Continuum\\anaconda3\\lib\\site-packages\\matplotlib\\axes\\_base.py:278: FutureWarning:\n",
      "\n",
      "Support for multi-dimensional indexing (e.g. `obj[:, None]`) is deprecated and will be removed in a future version.  Convert to a numpy array before indexing instead.\n",
      "\n"
     ]
    },
    {
     "data": {
      "image/png": "[encoded data removed]",
      "text/plain": [
       "<Figure size 720x432 with 1 Axes>"
      ]
     },
     "metadata": {},
     "output_type": "display_data"
    }
   ],
   "source": [
    "#The percentage of errors increase from roughly 5 to 10% from 1 month to 12 months out\n",
    "from prophet.plot import plot_cross_validation_metric\n",
    "fig = plot_cross_validation_metric(df_cv, metric='mape')"
   ]
  },
  {
   "cell_type": "code",
   "execution_count": null,
   "id": "5ec392ae",
   "metadata": {},
   "outputs": [],
   "source": [
    "#Dask can be used for larger problems which require distributed computing\n",
    "\"\"\"\n",
    "from dask.distributed import Client\n",
    "\n",
    "client = Client()  # connect to the cluster\n",
    "\n",
    "df_cv = cross_validation(m, initial='730 days', period='180 days', horizon='365 days',\n",
    "\n",
    "                         parallel=\"dask\")\n",
    "\"\"\""
   ]
  },
  {
   "cell_type": "code",
   "execution_count": 10,
   "id": "c90d0bd4",
   "metadata": {},
   "outputs": [
    {
     "name": "stderr",
     "output_type": "stream",
     "text": [
      "INFO - Disabling daily seasonality. Run prophet with daily_seasonality=True to override this.\n",
      "INFO - Applying in parallel with <concurrent.futures.process.ProcessPoolExecutor object at 0x0000023EBBE74F60>\n",
      "INFO - Disabling daily seasonality. Run prophet with daily_seasonality=True to override this.\n",
      "INFO - Applying in parallel with <concurrent.futures.process.ProcessPoolExecutor object at 0x0000023EBB322160>\n",
      "INFO - Disabling daily seasonality. Run prophet with daily_seasonality=True to override this.\n",
      "INFO - Applying in parallel with <concurrent.futures.process.ProcessPoolExecutor object at 0x0000023EBB2F4320>\n",
      "INFO - Disabling daily seasonality. Run prophet with daily_seasonality=True to override this.\n",
      "INFO - Applying in parallel with <concurrent.futures.process.ProcessPoolExecutor object at 0x0000023EBBEA3A20>\n",
      "INFO - Disabling daily seasonality. Run prophet with daily_seasonality=True to override this.\n",
      "INFO - Applying in parallel with <concurrent.futures.process.ProcessPoolExecutor object at 0x0000023EBBE7AC18>\n",
      "INFO - Disabling daily seasonality. Run prophet with daily_seasonality=True to override this.\n",
      "INFO - Applying in parallel with <concurrent.futures.process.ProcessPoolExecutor object at 0x0000023EBB2F4940>\n",
      "INFO - Disabling daily seasonality. Run prophet with daily_seasonality=True to override this.\n",
      "INFO - Applying in parallel with <concurrent.futures.process.ProcessPoolExecutor object at 0x0000023EB9066C50>\n",
      "INFO - Disabling daily seasonality. Run prophet with daily_seasonality=True to override this.\n",
      "INFO - Applying in parallel with <concurrent.futures.process.ProcessPoolExecutor object at 0x0000023EBB30D128>\n",
      "INFO - Disabling daily seasonality. Run prophet with daily_seasonality=True to override this.\n",
      "INFO - Applying in parallel with <concurrent.futures.process.ProcessPoolExecutor object at 0x0000023EBBEA37B8>\n",
      "INFO - Disabling daily seasonality. Run prophet with daily_seasonality=True to override this.\n",
      "INFO - Applying in parallel with <concurrent.futures.process.ProcessPoolExecutor object at 0x0000023EBB535D30>\n",
      "INFO - Disabling daily seasonality. Run prophet with daily_seasonality=True to override this.\n",
      "INFO - Applying in parallel with <concurrent.futures.process.ProcessPoolExecutor object at 0x0000023EBBE746D8>\n",
      "INFO - Disabling daily seasonality. Run prophet with daily_seasonality=True to override this.\n",
      "INFO - Applying in parallel with <concurrent.futures.process.ProcessPoolExecutor object at 0x0000023EBBEA3160>\n",
      "INFO - Disabling daily seasonality. Run prophet with daily_seasonality=True to override this.\n",
      "INFO - Applying in parallel with <concurrent.futures.process.ProcessPoolExecutor object at 0x0000023EBBE83B38>\n",
      "INFO - Disabling daily seasonality. Run prophet with daily_seasonality=True to override this.\n",
      "INFO - Applying in parallel with <concurrent.futures.process.ProcessPoolExecutor object at 0x0000023EB9144A58>\n",
      "INFO - Disabling daily seasonality. Run prophet with daily_seasonality=True to override this.\n",
      "INFO - Applying in parallel with <concurrent.futures.process.ProcessPoolExecutor object at 0x0000023EBB2F40F0>\n",
      "INFO - Disabling daily seasonality. Run prophet with daily_seasonality=True to override this.\n",
      "INFO - Applying in parallel with <concurrent.futures.process.ProcessPoolExecutor object at 0x0000023EBBE74B38>\n"
     ]
    },
    {
     "name": "stdout",
     "output_type": "stream",
     "text": [
      "    changepoint_prior_scale  seasonality_prior_scale      rmse\n",
      "0                     0.001                     0.01  0.757632\n",
      "1                     0.001                     0.10  0.743744\n",
      "2                     0.001                     1.00  0.752994\n",
      "3                     0.001                    10.00  0.753205\n",
      "4                     0.010                     0.01  0.525074\n",
      "5                     0.010                     0.10  0.540450\n",
      "6                     0.010                     1.00  0.521752\n",
      "7                     0.010                    10.00  0.542099\n",
      "8                     0.100                     0.01  0.523994\n",
      "9                     0.100                     0.10  0.518594\n",
      "10                    0.100                     1.00  0.519576\n",
      "11                    0.100                    10.00  0.521140\n",
      "12                    0.500                     0.01  0.530504\n",
      "13                    0.500                     0.10  0.527880\n",
      "14                    0.500                     1.00  0.527240\n",
      "15                    0.500                    10.00  0.525897\n"
     ]
    }
   ],
   "source": [
    "#Iterate over change point and seasonlity to tune the hyperparameters\n",
    "import itertools\n",
    "import numpy as np\n",
    "import pandas as pd\n",
    "\n",
    "param_grid = {  \n",
    "    'changepoint_prior_scale': [0.001, 0.01, 0.1, 0.5],\n",
    "    'seasonality_prior_scale': [0.01, 0.1, 1.0, 10.0],\n",
    "}\n",
    "\n",
    "# Generate all combinations of parameters\n",
    "all_params = [dict(zip(param_grid.keys(), v)) for v in itertools.product(*param_grid.values())]\n",
    "rmses = []  # Store the RMSEs for each params here\n",
    "\n",
    "# Use cross validation to evaluate all parameters\n",
    "for params in all_params:\n",
    "    m = Prophet(**params).fit(df)  # Fit model with given params\n",
    "    df_cv = cross_validation(m, cutoffs=cutoffs, horizon='30 days', parallel=\"processes\")\n",
    "    df_p = performance_metrics(df_cv, rolling_window=1)\n",
    "    rmses.append(df_p['rmse'].values[0])\n",
    "\n",
    "# Find the best parameters\n",
    "tuning_results = pd.DataFrame(all_params)\n",
    "tuning_results['rmse'] = rmses\n",
    "print(tuning_results)"
   ]
  },
  {
   "cell_type": "code",
   "execution_count": 11,
   "id": "b0a555e4",
   "metadata": {},
   "outputs": [
    {
     "name": "stdout",
     "output_type": "stream",
     "text": [
      "{'changepoint_prior_scale': 0.1, 'seasonality_prior_scale': 0.1}\n"
     ]
    }
   ],
   "source": [
    "best_params = all_params[np.argmin(rmses)]\n",
    "print(best_params)"
   ]
  },
  {
   "cell_type": "code",
   "execution_count": 12,
   "id": "d3fbae03",
   "metadata": {},
   "outputs": [],
   "source": [
    "#Save the model to JSON\n",
    "import json\n",
    "from prophet.serialize import model_to_json, model_from_json\n",
    "\n",
    "with open('serialized_model.json', 'w') as fout:\n",
    "    json.dump(model_to_json(m), fout)  # Save model\n",
    "\n",
    "with open('serialized_model.json', 'r') as fin:\n",
    "    m = model_from_json(json.load(fin))  # Load model"
   ]
  },
  {
   "cell_type": "code",
   "execution_count": 13,
   "id": "8f0242ef",
   "metadata": {},
   "outputs": [],
   "source": [
    "m = Prophet(growth='flat')"
   ]
  },
  {
   "cell_type": "code",
   "execution_count": 15,
   "id": "c638a42f",
   "metadata": {},
   "outputs": [
    {
     "name": "stderr",
     "output_type": "stream",
     "text": [
      "INFO - Disabling daily seasonality. Run prophet with daily_seasonality=True to override this.\n",
      "INFO - Disabling daily seasonality. Run prophet with daily_seasonality=True to override this.\n",
      "INFO - Disabling daily seasonality. Run prophet with daily_seasonality=True to override this.\n",
      "INFO - Disabling daily seasonality. Run prophet with daily_seasonality=True to override this.\n",
      "INFO - Disabling daily seasonality. Run prophet with daily_seasonality=True to override this.\n",
      "INFO - Disabling daily seasonality. Run prophet with daily_seasonality=True to override this.\n",
      "INFO - Disabling daily seasonality. Run prophet with daily_seasonality=True to override this.\n",
      "INFO - Disabling daily seasonality. Run prophet with daily_seasonality=True to override this.\n",
      "INFO - Disabling daily seasonality. Run prophet with daily_seasonality=True to override this.\n",
      "INFO - Disabling daily seasonality. Run prophet with daily_seasonality=True to override this.\n"
     ]
    },
    {
     "name": "stdout",
     "output_type": "stream",
     "text": [
      "5.61 s ± 448 ms per loop (mean ± std. dev. of 7 runs, 1 loop each)\n"
     ]
    },
    {
     "name": "stderr",
     "output_type": "stream",
     "text": [
      "INFO - Disabling daily seasonality. Run prophet with daily_seasonality=True to override this.\n",
      "INFO - Disabling daily seasonality. Run prophet with daily_seasonality=True to override this.\n",
      "INFO - Disabling daily seasonality. Run prophet with daily_seasonality=True to override this.\n",
      "INFO - Disabling daily seasonality. Run prophet with daily_seasonality=True to override this.\n",
      "INFO - Disabling daily seasonality. Run prophet with daily_seasonality=True to override this.\n",
      "INFO - Disabling daily seasonality. Run prophet with daily_seasonality=True to override this.\n",
      "INFO - Disabling daily seasonality. Run prophet with daily_seasonality=True to override this.\n"
     ]
    },
    {
     "name": "stdout",
     "output_type": "stream",
     "text": [
      "298 ms ± 23.2 ms per loop (mean ± std. dev. of 7 runs, 1 loop each)\n"
     ]
    }
   ],
   "source": [
    "#The model can be updated and fit slightly faster for small updates if \"warm-started\" (e.g. an extra day is added)\n",
    "\n",
    "def stan_init(m):\n",
    "    \"\"\"Retrieve parameters from a trained model.\n",
    "    \n",
    "    Retrieve parameters from a trained model in the format\n",
    "    used to initialize a new Stan model.\n",
    "    \n",
    "    Parameters\n",
    "    ----------\n",
    "    m: A trained model of the Prophet class.\n",
    "    \n",
    "    Returns\n",
    "    -------\n",
    "    A Dictionary containing retrieved parameters of m.\n",
    "    \n",
    "    \"\"\"\n",
    "    res = {}\n",
    "    for pname in ['k', 'm', 'sigma_obs']:\n",
    "        res[pname] = m.params[pname][0][0]\n",
    "    for pname in ['delta', 'beta']:\n",
    "        res[pname] = m.params[pname][0]\n",
    "    return res\n",
    "\n",
    "df = pd.read_csv('example_wp_log_peyton_manning.csv')\n",
    "df1 = df.loc[df['ds'] < '2016-01-19', :]  # All data except the last day\n",
    "m1 = Prophet().fit(df1) # A model fit to all data except the last day\n",
    "\n",
    "\n",
    "%timeit m2 = Prophet().fit(df)  # Adding the last day, fitting from scratch\n",
    "%timeit m2 = Prophet().fit(df, init=stan_init(m1))  # Adding the last day, warm-starting from m1"
   ]
  },
  {
   "cell_type": "code",
   "execution_count": null,
   "id": "b7028497",
   "metadata": {},
   "outputs": [],
   "source": []
  }
 ],
 "metadata": {
  "kernelspec": {
   "display_name": "Python 3",
   "language": "python",
   "name": "python3"
  },
  "language_info": {
   "codemirror_mode": {
    "name": "ipython",
    "version": 3
   },
   "file_extension": ".py",
   "mimetype": "text/x-python",
   "name": "python",
   "nbconvert_exporter": "python",
   "pygments_lexer": "ipython3",
   "version": "3.7.1"
  },
  "toc": {
   "base_numbering": 1,
   "nav_menu": {},
   "number_sections": true,
   "sideBar": true,
   "skip_h1_title": false,
   "title_cell": "Table of Contents",
   "title_sidebar": "Contents",
   "toc_cell": false,
   "toc_position": {},
   "toc_section_display": true,
   "toc_window_display": false
  },
  "varInspector": {
   "cols": {
    "lenName": 16,
    "lenType": 16,
    "lenVar": 40
   },
   "kernels_config": {
    "python": {
     "delete_cmd_postfix": "",
     "delete_cmd_prefix": "del ",
     "library": "var_list.py",
     "varRefreshCmd": "print(var_dic_list())"
    },
    "r": {
     "delete_cmd_postfix": ") ",
     "delete_cmd_prefix": "rm(",
     "library": "var_list.r",
     "varRefreshCmd": "cat(var_dic_list()) "
    }
   },
   "types_to_exclude": [
    "module",
    "function",
    "builtin_function_or_method",
    "instance",
    "_Feature"
   ],
   "window_display": false
  }
 },
 "nbformat": 4,
 "nbformat_minor": 5
}
